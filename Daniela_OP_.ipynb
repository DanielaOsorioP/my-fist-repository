{
  "nbformat": 4,
  "nbformat_minor": 0,
  "metadata": {
    "colab": {
      "provenance": [],
      "authorship_tag": "ABX9TyP1t8a6IN+UnLJbyz3Vj73G",
      "include_colab_link": true
    },
    "kernelspec": {
      "name": "python3",
      "display_name": "Python 3"
    },
    "language_info": {
      "name": "python"
    }
  },
  "cells": [
    {
      "cell_type": "markdown",
      "metadata": {
        "id": "view-in-github",
        "colab_type": "text"
      },
      "source": [
        "<a href=\"https://colab.research.google.com/github/DanielaOsorioP/my-fist-repository/blob/main/Daniela_OP_.ipynb\" target=\"_parent\"><img src=\"https://colab.research.google.com/assets/colab-badge.svg\" alt=\"Open In Colab\"/></a>"
      ]
    },
    {
      "cell_type": "code",
      "execution_count": 5,
      "metadata": {
        "colab": {
          "base_uri": "https://localhost:8080/"
        },
        "id": "P30ZGHWBlwjH",
        "outputId": "96be134a-c495-4b2c-842d-9fe15010df28"
      },
      "outputs": [
        {
          "output_type": "stream",
          "name": "stdout",
          "text": [
            "Hola Daniela\n",
            "15\n",
            "8\n"
          ]
        }
      ],
      "source": [
        "name= \"Daniela\"\n",
        "print(\"Hola\",name)\n",
        "a=3\n",
        "b=5\n",
        "c=a*b\n",
        "d=a+b\n",
        "print (c)\n",
        "print (d)\n"
      ]
    },
    {
      "cell_type": "code",
      "source": [],
      "metadata": {
        "id": "aD4yBAp8nEfW"
      },
      "execution_count": null,
      "outputs": []
    }
  ]
}